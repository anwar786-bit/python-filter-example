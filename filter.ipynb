{
 "cells": [
  {
   "cell_type": "code",
   "execution_count": 30,
   "metadata": {},
   "outputs": [],
   "source": [
    "import pandas as pd"
   ]
  },
  {
   "cell_type": "code",
   "execution_count": 31,
   "metadata": {},
   "outputs": [],
   "source": [
    "df = pd.read_excel(\"C:\\\\Users\\\\ANWAR\\\\Downloads\\\\Telecomechurn.csv.xlsx\")"
   ]
  },
  {
   "cell_type": "code",
   "execution_count": 32,
   "metadata": {},
   "outputs": [
    {
     "data": {
      "text/html": [
       "<div>\n",
       "<style scoped>\n",
       "    .dataframe tbody tr th:only-of-type {\n",
       "        vertical-align: middle;\n",
       "    }\n",
       "\n",
       "    .dataframe tbody tr th {\n",
       "        vertical-align: top;\n",
       "    }\n",
       "\n",
       "    .dataframe thead th {\n",
       "        text-align: right;\n",
       "    }\n",
       "</style>\n",
       "<table border=\"1\" class=\"dataframe\">\n",
       "  <thead>\n",
       "    <tr style=\"text-align: right;\">\n",
       "      <th></th>\n",
       "      <th>Acc_no</th>\n",
       "      <th>gender</th>\n",
       "      <th>city</th>\n",
       "      <th>state</th>\n",
       "      <th>Mobile no</th>\n",
       "      <th>MonthlyCharges</th>\n",
       "      <th>usage</th>\n",
       "      <th>Date</th>\n",
       "      <th>Unnamed: 8</th>\n",
       "      <th>Usage Talk time</th>\n",
       "      <th>sms</th>\n",
       "    </tr>\n",
       "  </thead>\n",
       "  <tbody>\n",
       "    <tr>\n",
       "      <th>0</th>\n",
       "      <td>1000001</td>\n",
       "      <td>Female</td>\n",
       "      <td>NORTHWEST/ROCKY MOUNTAIN AREA</td>\n",
       "      <td>KS</td>\n",
       "      <td>382-4657</td>\n",
       "      <td>29.85</td>\n",
       "      <td>58.000000</td>\n",
       "      <td>2019-08-01</td>\n",
       "      <td>NaN</td>\n",
       "      <td>265.1</td>\n",
       "      <td>2.70</td>\n",
       "    </tr>\n",
       "    <tr>\n",
       "      <th>1</th>\n",
       "      <td>1000002</td>\n",
       "      <td>Male</td>\n",
       "      <td>CHICAGO AREA</td>\n",
       "      <td>OH</td>\n",
       "      <td>371-7191</td>\n",
       "      <td>56.95</td>\n",
       "      <td>83.666667</td>\n",
       "      <td>2019-08-02</td>\n",
       "      <td>NaN</td>\n",
       "      <td>161.6</td>\n",
       "      <td>3.70</td>\n",
       "    </tr>\n",
       "    <tr>\n",
       "      <th>2</th>\n",
       "      <td>1000003</td>\n",
       "      <td>Male</td>\n",
       "      <td>GREAT LAKES AREA</td>\n",
       "      <td>NJ</td>\n",
       "      <td>358-1921</td>\n",
       "      <td>53.85</td>\n",
       "      <td>5.000000</td>\n",
       "      <td>2019-08-03</td>\n",
       "      <td>NaN</td>\n",
       "      <td>243.4</td>\n",
       "      <td>3.29</td>\n",
       "    </tr>\n",
       "    <tr>\n",
       "      <th>3</th>\n",
       "      <td>1000004</td>\n",
       "      <td>Male</td>\n",
       "      <td>CHICAGO AREA</td>\n",
       "      <td>OH</td>\n",
       "      <td>375-9999</td>\n",
       "      <td>42.30</td>\n",
       "      <td>1.333333</td>\n",
       "      <td>2019-08-04</td>\n",
       "      <td>NaN</td>\n",
       "      <td>299.4</td>\n",
       "      <td>1.78</td>\n",
       "    </tr>\n",
       "    <tr>\n",
       "      <th>4</th>\n",
       "      <td>1000005</td>\n",
       "      <td>Female</td>\n",
       "      <td>NEW ENGLAND AREA</td>\n",
       "      <td>OK</td>\n",
       "      <td>330-6626</td>\n",
       "      <td>70.70</td>\n",
       "      <td>97.333333</td>\n",
       "      <td>2019-08-05</td>\n",
       "      <td>NaN</td>\n",
       "      <td>166.7</td>\n",
       "      <td>2.73</td>\n",
       "    </tr>\n",
       "    <tr>\n",
       "      <th>...</th>\n",
       "      <td>...</td>\n",
       "      <td>...</td>\n",
       "      <td>...</td>\n",
       "      <td>...</td>\n",
       "      <td>...</td>\n",
       "      <td>...</td>\n",
       "      <td>...</td>\n",
       "      <td>...</td>\n",
       "      <td>...</td>\n",
       "      <td>...</td>\n",
       "      <td>...</td>\n",
       "    </tr>\n",
       "    <tr>\n",
       "      <th>594</th>\n",
       "      <td>1000595</td>\n",
       "      <td>Male</td>\n",
       "      <td>OHIO AREA</td>\n",
       "      <td>WV</td>\n",
       "      <td>344-4478</td>\n",
       "      <td>45.60</td>\n",
       "      <td>150.333333</td>\n",
       "      <td>2019-10-06</td>\n",
       "      <td>NaN</td>\n",
       "      <td>205.7</td>\n",
       "      <td>3.38</td>\n",
       "    </tr>\n",
       "    <tr>\n",
       "      <th>595</th>\n",
       "      <td>1000596</td>\n",
       "      <td>Female</td>\n",
       "      <td>SOUTH FLORIDA AREA</td>\n",
       "      <td>HI</td>\n",
       "      <td>360-2690</td>\n",
       "      <td>61.65</td>\n",
       "      <td>327.666667</td>\n",
       "      <td>2019-10-07</td>\n",
       "      <td>NaN</td>\n",
       "      <td>151.4</td>\n",
       "      <td>0.00</td>\n",
       "    </tr>\n",
       "    <tr>\n",
       "      <th>596</th>\n",
       "      <td>1000597</td>\n",
       "      <td>Male</td>\n",
       "      <td>MIDWEST AREA</td>\n",
       "      <td>MN</td>\n",
       "      <td>410-7383</td>\n",
       "      <td>54.85</td>\n",
       "      <td>263.000000</td>\n",
       "      <td>2019-10-08</td>\n",
       "      <td>NaN</td>\n",
       "      <td>157.5</td>\n",
       "      <td>2.59</td>\n",
       "    </tr>\n",
       "    <tr>\n",
       "      <th>597</th>\n",
       "      <td>1000598</td>\n",
       "      <td>Male</td>\n",
       "      <td>SOUTH FLORIDA AREA</td>\n",
       "      <td>NY</td>\n",
       "      <td>356-1889</td>\n",
       "      <td>65.55</td>\n",
       "      <td>117.333333</td>\n",
       "      <td>2019-10-09</td>\n",
       "      <td>NaN</td>\n",
       "      <td>160.4</td>\n",
       "      <td>2.46</td>\n",
       "    </tr>\n",
       "    <tr>\n",
       "      <th>598</th>\n",
       "      <td>1000599</td>\n",
       "      <td>Male</td>\n",
       "      <td>SOUTH FLORIDA AREA</td>\n",
       "      <td>AZ</td>\n",
       "      <td>341-2360</td>\n",
       "      <td>90.35</td>\n",
       "      <td>43.666667</td>\n",
       "      <td>2019-10-10</td>\n",
       "      <td>NaN</td>\n",
       "      <td>159.0</td>\n",
       "      <td>3.32</td>\n",
       "    </tr>\n",
       "  </tbody>\n",
       "</table>\n",
       "<p>599 rows × 11 columns</p>\n",
       "</div>"
      ],
      "text/plain": [
       "      Acc_no  gender                           city state Mobile no  \\\n",
       "0    1000001  Female  NORTHWEST/ROCKY MOUNTAIN AREA    KS  382-4657   \n",
       "1    1000002    Male                   CHICAGO AREA    OH  371-7191   \n",
       "2    1000003    Male               GREAT LAKES AREA    NJ  358-1921   \n",
       "3    1000004    Male                   CHICAGO AREA    OH  375-9999   \n",
       "4    1000005  Female               NEW ENGLAND AREA    OK  330-6626   \n",
       "..       ...     ...                            ...   ...       ...   \n",
       "594  1000595    Male                      OHIO AREA    WV  344-4478   \n",
       "595  1000596  Female             SOUTH FLORIDA AREA    HI  360-2690   \n",
       "596  1000597    Male                   MIDWEST AREA    MN  410-7383   \n",
       "597  1000598    Male             SOUTH FLORIDA AREA    NY  356-1889   \n",
       "598  1000599    Male             SOUTH FLORIDA AREA    AZ  341-2360   \n",
       "\n",
       "     MonthlyCharges       usage       Date  Unnamed: 8  Usage Talk time   sms  \n",
       "0             29.85   58.000000 2019-08-01         NaN            265.1  2.70  \n",
       "1             56.95   83.666667 2019-08-02         NaN            161.6  3.70  \n",
       "2             53.85    5.000000 2019-08-03         NaN            243.4  3.29  \n",
       "3             42.30    1.333333 2019-08-04         NaN            299.4  1.78  \n",
       "4             70.70   97.333333 2019-08-05         NaN            166.7  2.73  \n",
       "..              ...         ...        ...         ...              ...   ...  \n",
       "594           45.60  150.333333 2019-10-06         NaN            205.7  3.38  \n",
       "595           61.65  327.666667 2019-10-07         NaN            151.4  0.00  \n",
       "596           54.85  263.000000 2019-10-08         NaN            157.5  2.59  \n",
       "597           65.55  117.333333 2019-10-09         NaN            160.4  2.46  \n",
       "598           90.35   43.666667 2019-10-10         NaN            159.0  3.32  \n",
       "\n",
       "[599 rows x 11 columns]"
      ]
     },
     "execution_count": 32,
     "metadata": {},
     "output_type": "execute_result"
    }
   ],
   "source": [
    "df"
   ]
  },
  {
   "cell_type": "code",
   "execution_count": 33,
   "metadata": {},
   "outputs": [
    {
     "data": {
      "text/plain": [
       "Index(['Acc_no', 'gender', 'city', 'state', 'Mobile no', 'MonthlyCharges',\n",
       "       'usage', 'Date', 'Unnamed: 8', 'Usage Talk time', 'sms'],\n",
       "      dtype='object')"
      ]
     },
     "execution_count": 33,
     "metadata": {},
     "output_type": "execute_result"
    }
   ],
   "source": [
    "df.columns"
   ]
  },
  {
   "cell_type": "code",
   "execution_count": 34,
   "metadata": {},
   "outputs": [
    {
     "data": {
      "text/plain": [
       "599"
      ]
     },
     "execution_count": 34,
     "metadata": {},
     "output_type": "execute_result"
    }
   ],
   "source": [
    "len(set(df.Acc_no.tolist()))3"
   ]
  },
  {
   "cell_type": "code",
   "execution_count": 79,
   "metadata": {},
   "outputs": [
    {
     "data": {
      "text/html": [
       "<div>\n",
       "<style scoped>\n",
       "    .dataframe tbody tr th:only-of-type {\n",
       "        vertical-align: middle;\n",
       "    }\n",
       "\n",
       "    .dataframe tbody tr th {\n",
       "        vertical-align: top;\n",
       "    }\n",
       "\n",
       "    .dataframe thead th {\n",
       "        text-align: right;\n",
       "    }\n",
       "</style>\n",
       "<table border=\"1\" class=\"dataframe\">\n",
       "  <thead>\n",
       "    <tr style=\"text-align: right;\">\n",
       "      <th></th>\n",
       "      <th>city</th>\n",
       "      <th>usage</th>\n",
       "    </tr>\n",
       "  </thead>\n",
       "  <tbody>\n",
       "    <tr>\n",
       "      <th>0</th>\n",
       "      <td>CENTRAL/SOUTH TEXAS AREA</td>\n",
       "      <td>25041.666667</td>\n",
       "    </tr>\n",
       "    <tr>\n",
       "      <th>1</th>\n",
       "      <td>SOUTH FLORIDA AREA</td>\n",
       "      <td>19788.000000</td>\n",
       "    </tr>\n",
       "    <tr>\n",
       "      <th>2</th>\n",
       "      <td>DALLAS AREA</td>\n",
       "      <td>17786.666667</td>\n",
       "    </tr>\n",
       "    <tr>\n",
       "      <th>3</th>\n",
       "      <td>SOUTHWEST AREA</td>\n",
       "      <td>13623.000001</td>\n",
       "    </tr>\n",
       "    <tr>\n",
       "      <th>4</th>\n",
       "      <td>NORTHWEST/ROCKY MOUNTAIN AREA</td>\n",
       "      <td>10235.000000</td>\n",
       "    </tr>\n",
       "    <tr>\n",
       "      <th>5</th>\n",
       "      <td>MIDWEST AREA</td>\n",
       "      <td>9997.000000</td>\n",
       "    </tr>\n",
       "    <tr>\n",
       "      <th>6</th>\n",
       "      <td>TENNESSEE AREA</td>\n",
       "      <td>7521.000000</td>\n",
       "    </tr>\n",
       "    <tr>\n",
       "      <th>7</th>\n",
       "      <td>HOUSTON AREA</td>\n",
       "      <td>4729.333333</td>\n",
       "    </tr>\n",
       "    <tr>\n",
       "      <th>8</th>\n",
       "      <td>OHIO AREA</td>\n",
       "      <td>2530.666667</td>\n",
       "    </tr>\n",
       "    <tr>\n",
       "      <th>9</th>\n",
       "      <td>PHILADELPHIA AREA</td>\n",
       "      <td>2480.000000</td>\n",
       "    </tr>\n",
       "    <tr>\n",
       "      <th>10</th>\n",
       "      <td>NEW YORK CITY AREA</td>\n",
       "      <td>1632.333333</td>\n",
       "    </tr>\n",
       "    <tr>\n",
       "      <th>11</th>\n",
       "      <td>GREAT LAKES AREA</td>\n",
       "      <td>1610.666667</td>\n",
       "    </tr>\n",
       "    <tr>\n",
       "      <th>12</th>\n",
       "      <td>CHICAGO AREA</td>\n",
       "      <td>1522.666667</td>\n",
       "    </tr>\n",
       "    <tr>\n",
       "      <th>13</th>\n",
       "      <td>NEW ENGLAND AREA</td>\n",
       "      <td>775.000000</td>\n",
       "    </tr>\n",
       "    <tr>\n",
       "      <th>14</th>\n",
       "      <td>ATLANTIC SOUTH AREA</td>\n",
       "      <td>661.666667</td>\n",
       "    </tr>\n",
       "    <tr>\n",
       "      <th>15</th>\n",
       "      <td>CALIFORNIA NORTH AREA</td>\n",
       "      <td>498.000000</td>\n",
       "    </tr>\n",
       "  </tbody>\n",
       "</table>\n",
       "</div>"
      ],
      "text/plain": [
       "                             city         usage\n",
       "0        CENTRAL/SOUTH TEXAS AREA  25041.666667\n",
       "1              SOUTH FLORIDA AREA  19788.000000\n",
       "2                     DALLAS AREA  17786.666667\n",
       "3                  SOUTHWEST AREA  13623.000001\n",
       "4   NORTHWEST/ROCKY MOUNTAIN AREA  10235.000000\n",
       "5                    MIDWEST AREA   9997.000000\n",
       "6                  TENNESSEE AREA   7521.000000\n",
       "7                    HOUSTON AREA   4729.333333\n",
       "8                       OHIO AREA   2530.666667\n",
       "9               PHILADELPHIA AREA   2480.000000\n",
       "10             NEW YORK CITY AREA   1632.333333\n",
       "11               GREAT LAKES AREA   1610.666667\n",
       "12                   CHICAGO AREA   1522.666667\n",
       "13               NEW ENGLAND AREA    775.000000\n",
       "14            ATLANTIC SOUTH AREA    661.666667\n",
       "15          CALIFORNIA NORTH AREA    498.000000"
      ]
     },
     "execution_count": 79,
     "metadata": {},
     "output_type": "execute_result"
    }
   ],
   "source": [
    "df1 = df.groupby(['city'])['usage'].sum().sort_values(ascending=False).reset_index()\n",
    "df1\n"
   ]
  },
  {
   "cell_type": "code",
   "execution_count": 178,
   "metadata": {},
   "outputs": [
    {
     "ename": "ValueError",
     "evalue": "shape mismatch: objects cannot be broadcast to a single shape",
     "output_type": "error",
     "traceback": [
      "\u001b[1;31m---------------------------------------------------------------------------\u001b[0m",
      "\u001b[1;31mValueError\u001b[0m                                Traceback (most recent call last)",
      "\u001b[1;32m<ipython-input-178-a7e68acd8ef5>\u001b[0m in \u001b[0;36m<module>\u001b[1;34m\u001b[0m\n\u001b[0;32m      6\u001b[0m \u001b[0mperformance\u001b[0m \u001b[1;33m=\u001b[0m \u001b[1;33m[\u001b[0m\u001b[1;36m10\u001b[0m\u001b[1;33m,\u001b[0m\u001b[1;36m8\u001b[0m\u001b[1;33m,\u001b[0m\u001b[1;36m6\u001b[0m\u001b[1;33m,\u001b[0m\u001b[1;36m4\u001b[0m\u001b[1;33m,\u001b[0m\u001b[1;36m2\u001b[0m\u001b[1;33m,\u001b[0m\u001b[1;36m1\u001b[0m\u001b[1;33m]\u001b[0m\u001b[1;33m\u001b[0m\u001b[1;33m\u001b[0m\u001b[0m\n\u001b[0;32m      7\u001b[0m \u001b[1;33m\u001b[0m\u001b[0m\n\u001b[1;32m----> 8\u001b[1;33m \u001b[0mplt\u001b[0m\u001b[1;33m.\u001b[0m\u001b[0mbar\u001b[0m\u001b[1;33m(\u001b[0m\u001b[0my_pos\u001b[0m\u001b[1;33m,\u001b[0m \u001b[0mperformance\u001b[0m\u001b[1;33m,\u001b[0m \u001b[0malign\u001b[0m\u001b[1;33m=\u001b[0m\u001b[1;34m'center'\u001b[0m\u001b[1;33m,\u001b[0m \u001b[0malpha\u001b[0m\u001b[1;33m=\u001b[0m\u001b[1;36m0.5\u001b[0m\u001b[1;33m)\u001b[0m\u001b[1;33m\u001b[0m\u001b[1;33m\u001b[0m\u001b[0m\n\u001b[0m\u001b[0;32m      9\u001b[0m \u001b[0mplt\u001b[0m\u001b[1;33m.\u001b[0m\u001b[0mxticks\u001b[0m\u001b[1;33m(\u001b[0m\u001b[0my_pos\u001b[0m\u001b[1;33m,\u001b[0m \u001b[0mobjects\u001b[0m\u001b[1;33m)\u001b[0m\u001b[1;33m\u001b[0m\u001b[1;33m\u001b[0m\u001b[0m\n\u001b[0;32m     10\u001b[0m \u001b[0mplt\u001b[0m\u001b[1;33m.\u001b[0m\u001b[0mylabel\u001b[0m\u001b[1;33m(\u001b[0m\u001b[1;34m'Usage'\u001b[0m\u001b[1;33m)\u001b[0m\u001b[1;33m\u001b[0m\u001b[1;33m\u001b[0m\u001b[0m\n",
      "\u001b[1;32mc:\\users\\anwar\\appdata\\local\\programs\\python\\python37-32\\lib\\site-packages\\matplotlib\\pyplot.py\u001b[0m in \u001b[0;36mbar\u001b[1;34m(x, height, width, bottom, align, data, **kwargs)\u001b[0m\n\u001b[0;32m   2438\u001b[0m     return gca().bar(\n\u001b[0;32m   2439\u001b[0m         \u001b[0mx\u001b[0m\u001b[1;33m,\u001b[0m \u001b[0mheight\u001b[0m\u001b[1;33m,\u001b[0m \u001b[0mwidth\u001b[0m\u001b[1;33m=\u001b[0m\u001b[0mwidth\u001b[0m\u001b[1;33m,\u001b[0m \u001b[0mbottom\u001b[0m\u001b[1;33m=\u001b[0m\u001b[0mbottom\u001b[0m\u001b[1;33m,\u001b[0m \u001b[0malign\u001b[0m\u001b[1;33m=\u001b[0m\u001b[0malign\u001b[0m\u001b[1;33m,\u001b[0m\u001b[1;33m\u001b[0m\u001b[1;33m\u001b[0m\u001b[0m\n\u001b[1;32m-> 2440\u001b[1;33m         **({\"data\": data} if data is not None else {}), **kwargs)\n\u001b[0m\u001b[0;32m   2441\u001b[0m \u001b[1;33m\u001b[0m\u001b[0m\n\u001b[0;32m   2442\u001b[0m \u001b[1;33m\u001b[0m\u001b[0m\n",
      "\u001b[1;32mc:\\users\\anwar\\appdata\\local\\programs\\python\\python37-32\\lib\\site-packages\\matplotlib\\__init__.py\u001b[0m in \u001b[0;36minner\u001b[1;34m(ax, data, *args, **kwargs)\u001b[0m\n\u001b[0;32m   1599\u001b[0m     \u001b[1;32mdef\u001b[0m \u001b[0minner\u001b[0m\u001b[1;33m(\u001b[0m\u001b[0max\u001b[0m\u001b[1;33m,\u001b[0m \u001b[1;33m*\u001b[0m\u001b[0margs\u001b[0m\u001b[1;33m,\u001b[0m \u001b[0mdata\u001b[0m\u001b[1;33m=\u001b[0m\u001b[1;32mNone\u001b[0m\u001b[1;33m,\u001b[0m \u001b[1;33m**\u001b[0m\u001b[0mkwargs\u001b[0m\u001b[1;33m)\u001b[0m\u001b[1;33m:\u001b[0m\u001b[1;33m\u001b[0m\u001b[1;33m\u001b[0m\u001b[0m\n\u001b[0;32m   1600\u001b[0m         \u001b[1;32mif\u001b[0m \u001b[0mdata\u001b[0m \u001b[1;32mis\u001b[0m \u001b[1;32mNone\u001b[0m\u001b[1;33m:\u001b[0m\u001b[1;33m\u001b[0m\u001b[1;33m\u001b[0m\u001b[0m\n\u001b[1;32m-> 1601\u001b[1;33m             \u001b[1;32mreturn\u001b[0m \u001b[0mfunc\u001b[0m\u001b[1;33m(\u001b[0m\u001b[0max\u001b[0m\u001b[1;33m,\u001b[0m \u001b[1;33m*\u001b[0m\u001b[0mmap\u001b[0m\u001b[1;33m(\u001b[0m\u001b[0msanitize_sequence\u001b[0m\u001b[1;33m,\u001b[0m \u001b[0margs\u001b[0m\u001b[1;33m)\u001b[0m\u001b[1;33m,\u001b[0m \u001b[1;33m**\u001b[0m\u001b[0mkwargs\u001b[0m\u001b[1;33m)\u001b[0m\u001b[1;33m\u001b[0m\u001b[1;33m\u001b[0m\u001b[0m\n\u001b[0m\u001b[0;32m   1602\u001b[0m \u001b[1;33m\u001b[0m\u001b[0m\n\u001b[0;32m   1603\u001b[0m         \u001b[0mbound\u001b[0m \u001b[1;33m=\u001b[0m \u001b[0mnew_sig\u001b[0m\u001b[1;33m.\u001b[0m\u001b[0mbind\u001b[0m\u001b[1;33m(\u001b[0m\u001b[0max\u001b[0m\u001b[1;33m,\u001b[0m \u001b[1;33m*\u001b[0m\u001b[0margs\u001b[0m\u001b[1;33m,\u001b[0m \u001b[1;33m**\u001b[0m\u001b[0mkwargs\u001b[0m\u001b[1;33m)\u001b[0m\u001b[1;33m\u001b[0m\u001b[1;33m\u001b[0m\u001b[0m\n",
      "\u001b[1;32mc:\\users\\anwar\\appdata\\local\\programs\\python\\python37-32\\lib\\site-packages\\matplotlib\\axes\\_axes.py\u001b[0m in \u001b[0;36mbar\u001b[1;34m(self, x, height, width, bottom, align, **kwargs)\u001b[0m\n\u001b[0;32m   2373\u001b[0m         x, height, width, y, linewidth = np.broadcast_arrays(\n\u001b[0;32m   2374\u001b[0m             \u001b[1;31m# Make args iterable too.\u001b[0m\u001b[1;33m\u001b[0m\u001b[1;33m\u001b[0m\u001b[1;33m\u001b[0m\u001b[0m\n\u001b[1;32m-> 2375\u001b[1;33m             np.atleast_1d(x), height, width, y, linewidth)\n\u001b[0m\u001b[0;32m   2376\u001b[0m \u001b[1;33m\u001b[0m\u001b[0m\n\u001b[0;32m   2377\u001b[0m         \u001b[1;31m# Now that units have been converted, set the tick locations.\u001b[0m\u001b[1;33m\u001b[0m\u001b[1;33m\u001b[0m\u001b[1;33m\u001b[0m\u001b[0m\n",
      "\u001b[1;32m<__array_function__ internals>\u001b[0m in \u001b[0;36mbroadcast_arrays\u001b[1;34m(*args, **kwargs)\u001b[0m\n",
      "\u001b[1;32mc:\\users\\anwar\\appdata\\local\\programs\\python\\python37-32\\lib\\site-packages\\numpy\\lib\\stride_tricks.py\u001b[0m in \u001b[0;36mbroadcast_arrays\u001b[1;34m(*args, **kwargs)\u001b[0m\n\u001b[0;32m    262\u001b[0m     \u001b[0margs\u001b[0m \u001b[1;33m=\u001b[0m \u001b[1;33m[\u001b[0m\u001b[0mnp\u001b[0m\u001b[1;33m.\u001b[0m\u001b[0marray\u001b[0m\u001b[1;33m(\u001b[0m\u001b[0m_m\u001b[0m\u001b[1;33m,\u001b[0m \u001b[0mcopy\u001b[0m\u001b[1;33m=\u001b[0m\u001b[1;32mFalse\u001b[0m\u001b[1;33m,\u001b[0m \u001b[0msubok\u001b[0m\u001b[1;33m=\u001b[0m\u001b[0msubok\u001b[0m\u001b[1;33m)\u001b[0m \u001b[1;32mfor\u001b[0m \u001b[0m_m\u001b[0m \u001b[1;32min\u001b[0m \u001b[0margs\u001b[0m\u001b[1;33m]\u001b[0m\u001b[1;33m\u001b[0m\u001b[1;33m\u001b[0m\u001b[0m\n\u001b[0;32m    263\u001b[0m \u001b[1;33m\u001b[0m\u001b[0m\n\u001b[1;32m--> 264\u001b[1;33m     \u001b[0mshape\u001b[0m \u001b[1;33m=\u001b[0m \u001b[0m_broadcast_shape\u001b[0m\u001b[1;33m(\u001b[0m\u001b[1;33m*\u001b[0m\u001b[0margs\u001b[0m\u001b[1;33m)\u001b[0m\u001b[1;33m\u001b[0m\u001b[1;33m\u001b[0m\u001b[0m\n\u001b[0m\u001b[0;32m    265\u001b[0m \u001b[1;33m\u001b[0m\u001b[0m\n\u001b[0;32m    266\u001b[0m     \u001b[1;32mif\u001b[0m \u001b[0mall\u001b[0m\u001b[1;33m(\u001b[0m\u001b[0marray\u001b[0m\u001b[1;33m.\u001b[0m\u001b[0mshape\u001b[0m \u001b[1;33m==\u001b[0m \u001b[0mshape\u001b[0m \u001b[1;32mfor\u001b[0m \u001b[0marray\u001b[0m \u001b[1;32min\u001b[0m \u001b[0margs\u001b[0m\u001b[1;33m)\u001b[0m\u001b[1;33m:\u001b[0m\u001b[1;33m\u001b[0m\u001b[1;33m\u001b[0m\u001b[0m\n",
      "\u001b[1;32mc:\\users\\anwar\\appdata\\local\\programs\\python\\python37-32\\lib\\site-packages\\numpy\\lib\\stride_tricks.py\u001b[0m in \u001b[0;36m_broadcast_shape\u001b[1;34m(*args)\u001b[0m\n\u001b[0;32m    189\u001b[0m     \u001b[1;31m# use the old-iterator because np.nditer does not handle size 0 arrays\u001b[0m\u001b[1;33m\u001b[0m\u001b[1;33m\u001b[0m\u001b[1;33m\u001b[0m\u001b[0m\n\u001b[0;32m    190\u001b[0m     \u001b[1;31m# consistently\u001b[0m\u001b[1;33m\u001b[0m\u001b[1;33m\u001b[0m\u001b[1;33m\u001b[0m\u001b[0m\n\u001b[1;32m--> 191\u001b[1;33m     \u001b[0mb\u001b[0m \u001b[1;33m=\u001b[0m \u001b[0mnp\u001b[0m\u001b[1;33m.\u001b[0m\u001b[0mbroadcast\u001b[0m\u001b[1;33m(\u001b[0m\u001b[1;33m*\u001b[0m\u001b[0margs\u001b[0m\u001b[1;33m[\u001b[0m\u001b[1;33m:\u001b[0m\u001b[1;36m32\u001b[0m\u001b[1;33m]\u001b[0m\u001b[1;33m)\u001b[0m\u001b[1;33m\u001b[0m\u001b[1;33m\u001b[0m\u001b[0m\n\u001b[0m\u001b[0;32m    192\u001b[0m     \u001b[1;31m# unfortunately, it cannot handle 32 or more arguments directly\u001b[0m\u001b[1;33m\u001b[0m\u001b[1;33m\u001b[0m\u001b[1;33m\u001b[0m\u001b[0m\n\u001b[0;32m    193\u001b[0m     \u001b[1;32mfor\u001b[0m \u001b[0mpos\u001b[0m \u001b[1;32min\u001b[0m \u001b[0mrange\u001b[0m\u001b[1;33m(\u001b[0m\u001b[1;36m32\u001b[0m\u001b[1;33m,\u001b[0m \u001b[0mlen\u001b[0m\u001b[1;33m(\u001b[0m\u001b[0margs\u001b[0m\u001b[1;33m)\u001b[0m\u001b[1;33m,\u001b[0m \u001b[1;36m31\u001b[0m\u001b[1;33m)\u001b[0m\u001b[1;33m:\u001b[0m\u001b[1;33m\u001b[0m\u001b[1;33m\u001b[0m\u001b[0m\n",
      "\u001b[1;31mValueError\u001b[0m: shape mismatch: objects cannot be broadcast to a single shape"
     ]
    },
    {
     "data": {
      "image/png": "[encoded data removed]",
      "text/plain": [
       "<Figure size 640x480 with 1 Axes>"
      ]
     },
     "metadata": {},
     "output_type": "display_data"
    }
   ],
   "source": [
    "import matplotlib.pyplot as plt; plt.rcdefaults()\n",
    "import numpy as np\n",
    "import matplotlib.pyplot as plt\n",
    "\n",
    "y_pos = np.arange(len(objects))\n",
    "performance = [10,8,6,4,2,1]\n",
    "\n",
    "plt.bar(y_pos, performance, align='center', alpha=0.5)\n",
    "plt.xticks(y_pos, objects)\n",
    "plt.ylabel('Usage')\n",
    "plt.title('telecome data usage')\n",
    "\n",
    "plt.show()"
   ]
  },
  {
   "cell_type": "code",
   "execution_count": 77,
   "metadata": {},
   "outputs": [],
   "source": [
    "df1.to_csv('text1.csv',index =False )"
   ]
  },
  {
   "cell_type": "code",
   "execution_count": 40,
   "metadata": {},
   "outputs": [
    {
     "data": {
      "text/html": [
       "<div>\n",
       "<style scoped>\n",
       "    .dataframe tbody tr th:only-of-type {\n",
       "        vertical-align: middle;\n",
       "    }\n",
       "\n",
       "    .dataframe tbody tr th {\n",
       "        vertical-align: top;\n",
       "    }\n",
       "\n",
       "    .dataframe thead th {\n",
       "        text-align: right;\n",
       "    }\n",
       "</style>\n",
       "<table border=\"1\" class=\"dataframe\">\n",
       "  <thead>\n",
       "    <tr style=\"text-align: right;\">\n",
       "      <th></th>\n",
       "      <th>gender</th>\n",
       "      <th>usage</th>\n",
       "    </tr>\n",
       "  </thead>\n",
       "  <tbody>\n",
       "    <tr>\n",
       "      <th>0</th>\n",
       "      <td>Female</td>\n",
       "      <td>60655.000000</td>\n",
       "    </tr>\n",
       "    <tr>\n",
       "      <th>1</th>\n",
       "      <td>Male</td>\n",
       "      <td>59777.666667</td>\n",
       "    </tr>\n",
       "  </tbody>\n",
       "</table>\n",
       "</div>"
      ],
      "text/plain": [
       "   gender         usage\n",
       "0  Female  60655.000000\n",
       "1    Male  59777.666667"
      ]
     },
     "execution_count": 40,
     "metadata": {},
     "output_type": "execute_result"
    }
   ],
   "source": [
    "df1 = df.groupby(['gender'])['usage'].sum().sort_values(ascending=False).reset_index()\n",
    "df1"
   ]
  },
  {
   "cell_type": "code",
   "execution_count": 54,
   "metadata": {},
   "outputs": [
    {
     "data": {
      "text/html": [
       "<div>\n",
       "<style scoped>\n",
       "    .dataframe tbody tr th:only-of-type {\n",
       "        vertical-align: middle;\n",
       "    }\n",
       "\n",
       "    .dataframe tbody tr th {\n",
       "        vertical-align: top;\n",
       "    }\n",
       "\n",
       "    .dataframe thead th {\n",
       "        text-align: right;\n",
       "    }\n",
       "</style>\n",
       "<table border=\"1\" class=\"dataframe\">\n",
       "  <thead>\n",
       "    <tr style=\"text-align: right;\">\n",
       "      <th></th>\n",
       "      <th>gender</th>\n",
       "      <th>Usage Talk time</th>\n",
       "    </tr>\n",
       "  </thead>\n",
       "  <tbody>\n",
       "    <tr>\n",
       "      <th>0</th>\n",
       "      <td>Male</td>\n",
       "      <td>54604.1</td>\n",
       "    </tr>\n",
       "    <tr>\n",
       "      <th>1</th>\n",
       "      <td>Female</td>\n",
       "      <td>54150.5</td>\n",
       "    </tr>\n",
       "  </tbody>\n",
       "</table>\n",
       "</div>"
      ],
      "text/plain": [
       "   gender  Usage Talk time\n",
       "0    Male          54604.1\n",
       "1  Female          54150.5"
      ]
     },
     "execution_count": 54,
     "metadata": {},
     "output_type": "execute_result"
    }
   ],
   "source": [
    "df1 = df.groupby(['gender'])['Usage Talk time'].sum().sort_values(ascending=False).reset_index()\n",
    "df1"
   ]
  },
  {
   "cell_type": "code",
   "execution_count": 67,
   "metadata": {},
   "outputs": [
    {
     "data": {
      "text/html": [
       "<div>\n",
       "<style scoped>\n",
       "    .dataframe tbody tr th:only-of-type {\n",
       "        vertical-align: middle;\n",
       "    }\n",
       "\n",
       "    .dataframe tbody tr th {\n",
       "        vertical-align: top;\n",
       "    }\n",
       "\n",
       "    .dataframe thead th {\n",
       "        text-align: right;\n",
       "    }\n",
       "</style>\n",
       "<table border=\"1\" class=\"dataframe\">\n",
       "  <thead>\n",
       "    <tr style=\"text-align: right;\">\n",
       "      <th></th>\n",
       "      <th>sms</th>\n",
       "      <th>city</th>\n",
       "    </tr>\n",
       "  </thead>\n",
       "  <tbody>\n",
       "    <tr>\n",
       "      <th>0</th>\n",
       "      <td>2.86</td>\n",
       "      <td>TENNESSEE AREATENNESSEE AREAMIDWEST AREACENTRA...</td>\n",
       "    </tr>\n",
       "    <tr>\n",
       "      <th>1</th>\n",
       "      <td>2.32</td>\n",
       "      <td>TENNESSEE AREATENNESSEE AREACENTRAL/SOUTH TEXA...</td>\n",
       "    </tr>\n",
       "    <tr>\n",
       "      <th>2</th>\n",
       "      <td>2.11</td>\n",
       "      <td>TENNESSEE AREANORTHWEST/ROCKY MOUNTAIN AREANOR...</td>\n",
       "    </tr>\n",
       "    <tr>\n",
       "      <th>3</th>\n",
       "      <td>1.89</td>\n",
       "      <td>TENNESSEE AREANORTHWEST/ROCKY MOUNTAIN AREA</td>\n",
       "    </tr>\n",
       "    <tr>\n",
       "      <th>4</th>\n",
       "      <td>2.65</td>\n",
       "      <td>TENNESSEE AREADALLAS AREACENTRAL/SOUTH TEXAS A...</td>\n",
       "    </tr>\n",
       "    <tr>\n",
       "      <th>...</th>\n",
       "      <td>...</td>\n",
       "      <td>...</td>\n",
       "    </tr>\n",
       "    <tr>\n",
       "      <th>117</th>\n",
       "      <td>1.73</td>\n",
       "      <td>CENTRAL/SOUTH TEXAS AREACENTRAL/SOUTH TEXAS AREA</td>\n",
       "    </tr>\n",
       "    <tr>\n",
       "      <th>118</th>\n",
       "      <td>5.10</td>\n",
       "      <td>CENTRAL/SOUTH TEXAS AREA</td>\n",
       "    </tr>\n",
       "    <tr>\n",
       "      <th>119</th>\n",
       "      <td>1.22</td>\n",
       "      <td>CENTRAL/SOUTH TEXAS AREA</td>\n",
       "    </tr>\n",
       "    <tr>\n",
       "      <th>120</th>\n",
       "      <td>4.13</td>\n",
       "      <td>ATLANTIC SOUTH AREA</td>\n",
       "    </tr>\n",
       "    <tr>\n",
       "      <th>121</th>\n",
       "      <td>0.73</td>\n",
       "      <td>ATLANTIC SOUTH AREA</td>\n",
       "    </tr>\n",
       "  </tbody>\n",
       "</table>\n",
       "<p>122 rows × 2 columns</p>\n",
       "</div>"
      ],
      "text/plain": [
       "      sms                                               city\n",
       "0    2.86  TENNESSEE AREATENNESSEE AREAMIDWEST AREACENTRA...\n",
       "1    2.32  TENNESSEE AREATENNESSEE AREACENTRAL/SOUTH TEXA...\n",
       "2    2.11  TENNESSEE AREANORTHWEST/ROCKY MOUNTAIN AREANOR...\n",
       "3    1.89        TENNESSEE AREANORTHWEST/ROCKY MOUNTAIN AREA\n",
       "4    2.65  TENNESSEE AREADALLAS AREACENTRAL/SOUTH TEXAS A...\n",
       "..    ...                                                ...\n",
       "117  1.73   CENTRAL/SOUTH TEXAS AREACENTRAL/SOUTH TEXAS AREA\n",
       "118  5.10                           CENTRAL/SOUTH TEXAS AREA\n",
       "119  1.22                           CENTRAL/SOUTH TEXAS AREA\n",
       "120  4.13                                ATLANTIC SOUTH AREA\n",
       "121  0.73                                ATLANTIC SOUTH AREA\n",
       "\n",
       "[122 rows x 2 columns]"
      ]
     },
     "execution_count": 67,
     "metadata": {},
     "output_type": "execute_result"
    }
   ],
   "source": [
    "df1 = df.groupby(['sms'])['city'].sum().sort_values(ascending=False).reset_index()\n",
    "df1"
   ]
  },
  {
   "cell_type": "code",
   "execution_count": 95,
   "metadata": {},
   "outputs": [
    {
     "data": {
      "text/html": [
       "<div>\n",
       "<style scoped>\n",
       "    .dataframe tbody tr th:only-of-type {\n",
       "        vertical-align: middle;\n",
       "    }\n",
       "\n",
       "    .dataframe tbody tr th {\n",
       "        vertical-align: top;\n",
       "    }\n",
       "\n",
       "    .dataframe thead th {\n",
       "        text-align: right;\n",
       "    }\n",
       "</style>\n",
       "<table border=\"1\" class=\"dataframe\">\n",
       "  <thead>\n",
       "    <tr style=\"text-align: right;\">\n",
       "      <th></th>\n",
       "      <th>gender</th>\n",
       "      <th>MonthlyCharges</th>\n",
       "    </tr>\n",
       "  </thead>\n",
       "  <tbody>\n",
       "    <tr>\n",
       "      <th>0</th>\n",
       "      <td>Male</td>\n",
       "      <td>20666.55</td>\n",
       "    </tr>\n",
       "    <tr>\n",
       "      <th>1</th>\n",
       "      <td>Female</td>\n",
       "      <td>19489.80</td>\n",
       "    </tr>\n",
       "  </tbody>\n",
       "</table>\n",
       "</div>"
      ],
      "text/plain": [
       "   gender  MonthlyCharges\n",
       "0    Male        20666.55\n",
       "1  Female        19489.80"
      ]
     },
     "execution_count": 95,
     "metadata": {},
     "output_type": "execute_result"
    }
   ],
   "source": [
    "df1 = df.groupby(['gender'])['MonthlyCharges'].sum().sort_values(ascending=False).reset_index()\n",
    "df1"
   ]
  },
  {
   "cell_type": "code",
   "execution_count": 98,
   "metadata": {},
   "outputs": [
    {
     "data": {
      "text/html": [
       "<div>\n",
       "<style scoped>\n",
       "    .dataframe tbody tr th:only-of-type {\n",
       "        vertical-align: middle;\n",
       "    }\n",
       "\n",
       "    .dataframe tbody tr th {\n",
       "        vertical-align: top;\n",
       "    }\n",
       "\n",
       "    .dataframe thead th {\n",
       "        text-align: right;\n",
       "    }\n",
       "</style>\n",
       "<table border=\"1\" class=\"dataframe\">\n",
       "  <thead>\n",
       "    <tr style=\"text-align: right;\">\n",
       "      <th></th>\n",
       "      <th>MonthlyCharges</th>\n",
       "      <th>state</th>\n",
       "    </tr>\n",
       "  </thead>\n",
       "  <tbody>\n",
       "    <tr>\n",
       "      <th>0</th>\n",
       "      <td>19.65</td>\n",
       "      <td>WYUTHICT</td>\n",
       "    </tr>\n",
       "    <tr>\n",
       "      <th>1</th>\n",
       "      <td>64.15</td>\n",
       "      <td>WY</td>\n",
       "    </tr>\n",
       "    <tr>\n",
       "      <th>2</th>\n",
       "      <td>60.00</td>\n",
       "      <td>WY</td>\n",
       "    </tr>\n",
       "    <tr>\n",
       "      <th>3</th>\n",
       "      <td>107.05</td>\n",
       "      <td>WY</td>\n",
       "    </tr>\n",
       "    <tr>\n",
       "      <th>4</th>\n",
       "      <td>99.35</td>\n",
       "      <td>WY</td>\n",
       "    </tr>\n",
       "    <tr>\n",
       "      <th>...</th>\n",
       "      <td>...</td>\n",
       "      <td>...</td>\n",
       "    </tr>\n",
       "    <tr>\n",
       "      <th>455</th>\n",
       "      <td>62.80</td>\n",
       "      <td>AK</td>\n",
       "    </tr>\n",
       "    <tr>\n",
       "      <th>456</th>\n",
       "      <td>110.30</td>\n",
       "      <td>AK</td>\n",
       "    </tr>\n",
       "    <tr>\n",
       "      <th>457</th>\n",
       "      <td>94.10</td>\n",
       "      <td>AK</td>\n",
       "    </tr>\n",
       "    <tr>\n",
       "      <th>458</th>\n",
       "      <td>106.35</td>\n",
       "      <td>AK</td>\n",
       "    </tr>\n",
       "    <tr>\n",
       "      <th>459</th>\n",
       "      <td>25.40</td>\n",
       "      <td>AK</td>\n",
       "    </tr>\n",
       "  </tbody>\n",
       "</table>\n",
       "<p>460 rows × 2 columns</p>\n",
       "</div>"
      ],
      "text/plain": [
       "     MonthlyCharges     state\n",
       "0             19.65  WYUTHICT\n",
       "1             64.15        WY\n",
       "2             60.00        WY\n",
       "3            107.05        WY\n",
       "4             99.35        WY\n",
       "..              ...       ...\n",
       "455           62.80        AK\n",
       "456          110.30        AK\n",
       "457           94.10        AK\n",
       "458          106.35        AK\n",
       "459           25.40        AK\n",
       "\n",
       "[460 rows x 2 columns]"
      ]
     },
     "execution_count": 98,
     "metadata": {},
     "output_type": "execute_result"
    }
   ],
   "source": [
    "df1 = df.groupby(['MonthlyCharges'])['state'].sum().sort_values(ascending=False).reset_index()\n",
    "df1"
   ]
  },
  {
   "cell_type": "code",
   "execution_count": 116,
   "metadata": {},
   "outputs": [],
   "source": [
    "df1.to_csv('C:\\\\Users\\\\ANWAR\\\\Desktop\\\\anwar.csv',index=False)"
   ]
  },
  {
   "cell_type": "code",
   "execution_count": 112,
   "metadata": {},
   "outputs": [
    {
     "data": {
      "image/png": "[encoded data removed]",
      "text/plain": [
       "<Figure size 432x288 with 1 Axes>"
      ]
     },
     "metadata": {
      "needs_background": "light"
     },
     "output_type": "display_data"
    }
   ],
   "source": [
    "df = pd.DataFrame({'lab':['A', 'B', 'C'], 'val':[10, 30, 20]})\n",
    "ax = df.plot.bar(x='lab', y='val', rot=0)"
   ]
  },
  {
   "cell_type": "code",
   "execution_count": 177,
   "metadata": {},
   "outputs": [
    {
     "ename": "SyntaxError",
     "evalue": "invalid syntax (<ipython-input-177-1a34bd69043e>, line 1)",
     "output_type": "error",
     "traceback": [
      "\u001b[1;36m  File \u001b[1;32m\"<ipython-input-177-1a34bd69043e>\"\u001b[1;36m, line \u001b[1;32m1\u001b[0m\n\u001b[1;33m    user_df = pd.read_excel(r C:\\\\Users\\\\ANWAR\\\\Desktop\\\\user_details.csv.xlsx')\u001b[0m\n\u001b[1;37m                              ^\u001b[0m\n\u001b[1;31mSyntaxError\u001b[0m\u001b[1;31m:\u001b[0m invalid syntax\n"
     ]
    }
   ],
   "source": [
    "user_df = pd.read_excel(r C:\\\\Users\\\\ANWAR\\\\Desktop\\\\user_details.csv.xlsx')\n",
    "merged_Df = pd.merge(df,user_df, on='Acc_no', how = 'left')\n",
    "merged_Df\n"
   ]
  },
  {
   "cell_type": "code",
   "execution_count": 131,
   "metadata": {},
   "outputs": [
    {
     "ename": "SyntaxError",
     "evalue": "invalid syntax (<ipython-input-131-1664474d61c0>, line 1)",
     "output_type": "error",
     "traceback": [
      "\u001b[1;36m  File \u001b[1;32m\"<ipython-input-131-1664474d61c0>\"\u001b[1;36m, line \u001b[1;32m1\u001b[0m\n\u001b[1;33m    df = pd.DataFrame({'df1':['gender','usage' 'val':[10, 20, 30]]})\u001b[0m\n\u001b[1;37m                                                    ^\u001b[0m\n\u001b[1;31mSyntaxError\u001b[0m\u001b[1;31m:\u001b[0m invalid syntax\n"
     ]
    }
   ],
   "source": [
    "df = pd.DataFrame({'df1':['gender','usage' 'val':[10, 20, 30]]})\n",
    "ax = df.plot.bar(x= df1, y='val',rot =0)"
   ]
  },
  {
   "cell_type": "code",
   "execution_count": 233,
   "metadata": {},
   "outputs": [],
   "source": [
    "import logging \n",
    "  \n",
    "#Create and configure logger \n",
    "logging.basicConfig(filename=\"newfile.log\", \n",
    "                    format='%(asctime)s %(message)s', \n",
    "                    filemode='w') \n",
    "  \n",
    "#Creating an object \n",
    "logger=logging.getLogger() \n",
    "  \n",
    "#Setting the threshold of logger to DEBUG \n",
    "logger.setLevel(logging.DEBUG) \n",
    "  \n",
    "#Test messages \n",
    "logger.debug(\"Harmless debug Message\") \n",
    "logger.info(\"Just an information\") \n",
    "logger.warning(\"Its a Warning\") \n",
    "logger.error(\"Did you try to divide by zero\") \n",
    "logger.critical(\"Internet is down\") "
   ]
  },
  {
   "cell_type": "code",
   "execution_count": 232,
   "metadata": {},
   "outputs": [
    {
     "name": "stdout",
     "output_type": "stream",
     "text": [
      "<class 'pandas.core.frame.DataFrame'>\n",
      "             Acc_no  MonthlyCharges       usage  Unnamed: 8  Usage Talk time  \\\n",
      "state                                                                          \n",
      "AK     1.000262e+06       72.790909  164.636364         NaN       182.081818   \n",
      "AL     1.000341e+06       61.513158  149.596491         NaN       181.731579   \n",
      "AR     1.000309e+06       80.231818  198.666667         NaN       159.981818   \n",
      "AZ     1.000279e+06       56.815217  205.188406         NaN       171.639130   \n",
      "CA     1.000284e+06       59.850000  107.133333         NaN       215.240000   \n",
      "CO     1.000232e+06       74.009091  383.242424         NaN       181.481818   \n",
      "CT     1.000444e+06       72.791667  108.333333         NaN       177.700000   \n",
      "DC     1.000298e+06       58.604545  308.666667         NaN       161.090909   \n",
      "DE     1.000306e+06       77.196154  185.487179         NaN       180.515385   \n",
      "FL     1.000329e+06       67.031250  150.166667         NaN       188.093750   \n",
      "GA     1.000320e+06       66.973077  147.205128         NaN       185.161538   \n",
      "HI     1.000292e+06       63.110000  284.000000         NaN       181.360000   \n",
      "IA     1.000184e+06       68.030000  139.633333         NaN       167.680000   \n",
      "ID     1.000280e+06       72.120000   64.600000         NaN       179.700000   \n",
      "IL     1.000335e+06       82.993750  229.083333         NaN       142.937500   \n",
      "IN     1.000284e+06       67.627778  140.018519         NaN       205.805556   \n",
      "KS     1.000326e+06       54.000000  183.600000         NaN       196.270000   \n",
      "KY     1.000292e+06       58.568750  237.333333         NaN       193.325000   \n",
      "LA     1.000203e+06       68.240000  246.666667         NaN       210.900000   \n",
      "MA     1.000278e+06       75.442308  173.717949         NaN       168.907692   \n",
      "MD     1.000298e+06       69.441176  237.313726         NaN       194.217647   \n",
      "ME     1.000367e+06       77.138462  199.846154         NaN       181.953846   \n",
      "MI     1.000283e+06       77.035294  233.098039         NaN       196.694118   \n",
      "MN     1.000271e+06       60.735294  374.764706         NaN       179.341176   \n",
      "MO     1.000265e+06       61.200000  157.333333         NaN       158.133333   \n",
      "MS     1.000292e+06       41.804167  272.500000         NaN       175.166667   \n",
      "MT     1.000253e+06       64.450000  122.481481         NaN       183.244444   \n",
      "NC     1.000364e+06       69.116667  183.777778         NaN       207.383333   \n",
      "ND     1.000422e+06      110.500000  121.666667         NaN       199.600000   \n",
      "NE     1.000308e+06       66.764286  249.785714         NaN       172.750000   \n",
      "NH     1.000294e+06       77.207143  229.476190         NaN       173.942857   \n",
      "NJ     1.000223e+06       62.568182   82.212121         NaN       189.945455   \n",
      "NM     1.000350e+06       68.176667  287.888889         NaN       179.993333   \n",
      "NV     1.000304e+06       57.095833  144.555556         NaN       164.025000   \n",
      "NY     1.000320e+06       76.180000  105.700000         NaN       166.560000   \n",
      "OH     1.000297e+06       73.395833  183.722222         NaN       204.483333   \n",
      "OK     1.000316e+06       60.500000  168.833333         NaN       184.250000   \n",
      "OR     1.000341e+06       76.120000  151.866667         NaN       172.226667   \n",
      "PA     1.000395e+06       46.378571  229.428571         NaN       195.371429   \n",
      "RI     1.000332e+06       63.576667  414.177778         NaN       169.200000   \n",
      "SC     1.000299e+06       62.227778   82.370370         NaN       136.388889   \n",
      "SD     1.000368e+06       71.330769  172.538462         NaN       198.238462   \n",
      "TN     1.000272e+06       46.300000  327.111111         NaN       198.000000   \n",
      "TX     1.000286e+06       67.327778  157.388889         NaN       177.755556   \n",
      "UT     1.000324e+06       52.231818  249.212121         NaN       189.827273   \n",
      "VA     1.000223e+06       67.473077  207.641026         NaN       196.500000   \n",
      "VT     1.000295e+06       76.108333  176.750000         NaN       191.391667   \n",
      "WA     1.000238e+06       67.393750  107.625000         NaN       182.875000   \n",
      "WI     1.000377e+06       65.026923  293.512821         NaN       169.284615   \n",
      "WV     1.000327e+06       73.279167  154.722222         NaN       203.141667   \n",
      "WY     1.000222e+06       75.850000  282.833333         NaN       166.660000   \n",
      "\n",
      "            sms  \n",
      "state            \n",
      "AK     3.183636  \n",
      "AL     2.908947  \n",
      "AR     2.691818  \n",
      "AZ     2.945652  \n",
      "CA     2.668000  \n",
      "CO     2.381818  \n",
      "CT     2.591667  \n",
      "DC     2.891818  \n",
      "DE     2.550769  \n",
      "FL     2.874375  \n",
      "GA     2.783846  \n",
      "HI     2.474000  \n",
      "IA     2.731000  \n",
      "ID     2.874667  \n",
      "IL     2.971250  \n",
      "IN     2.395000  \n",
      "KS     2.558000  \n",
      "KY     2.793750  \n",
      "LA     2.733000  \n",
      "MA     3.036923  \n",
      "MD     2.935294  \n",
      "ME     2.799231  \n",
      "MI     2.901765  \n",
      "MN     2.955294  \n",
      "MO     2.397500  \n",
      "MS     2.357500  \n",
      "MT     3.087778  \n",
      "NC     2.466667  \n",
      "ND     2.055000  \n",
      "NE     3.137143  \n",
      "NH     2.874286  \n",
      "NJ     3.348182  \n",
      "NM     2.780667  \n",
      "NV     2.508333  \n",
      "NY     2.487000  \n",
      "OH     2.750833  \n",
      "OK     2.730556  \n",
      "OR     2.738667  \n",
      "PA     2.945714  \n",
      "RI     2.593333  \n",
      "SC     2.596667  \n",
      "SD     3.077692  \n",
      "TN     2.663333  \n",
      "TX     2.749444  \n",
      "UT     2.543636  \n",
      "VA     2.889231  \n",
      "VT     2.607500  \n",
      "WA     2.646250  \n",
      "WI     2.507692  \n",
      "WV     2.772500  \n",
      "WY     2.909000  \n"
     ]
    },
    {
     "data": {
      "image/png": "[encoded data removed]",
      "text/plain": [
       "<Figure size 640x480 with 1 Axes>"
      ]
     },
     "metadata": {},
     "output_type": "display_data"
    }
   ],
   "source": [
    "import pandas as pd\n",
    "import openpyxl\n",
    "import xlrd\n",
    "import matplotlib.pyplot as plt\n",
    "df=pd.read_excel(\"C:\\\\Users\\\\ANWAR\\\\Desktop\\\\Telecomechurn.xlsx\")\n",
    "print(type(df.groupby('city').mean()))\n",
    "print(df.groupby('state').mean())\n",
    "df.groupby('gender').sum().reset_index().head()\n",
    "df.groupby('gender').sum().plot(kind='bar');\n",
    "plt.show()\n"
   ]
  },
  {
   "cell_type": "code",
   "execution_count": 231,
   "metadata": {},
   "outputs": [
    {
     "name": "stdout",
     "output_type": "stream",
     "text": [
      "Data inserted with record ids <pymongo.results.InsertOneResult object at 0x0FBB74B8>   <pymongo.results.InsertOneResult object at 0x0C79FA30>\n",
      "Name: ABookPrice: 13.99\n",
      "Name: A T-ShirtPrice: 29.99\n",
      "Name: A ComputerPrice: 1229.99\n",
      "Name: penPrice: 24\n",
      "Name: scalePrice: 14\n",
      "Name: penPrice: 24\n",
      "Name: scalePrice: 14\n",
      "Name: penPrice: 24\n",
      "Name: scalePrice: 14\n",
      "Name: penPrice: 24\n",
      "Name: scalePrice: 14\n",
      "Name: gunPrice: 4000\n",
      "Name: dronePrice: 14000\n",
      "Name: ballPrice: 400\n",
      "Name: cameraPrice: 20000\n"
     ]
    }
   ],
   "source": [
    "import pymongo\n",
    "from pymongo import MongoClient\n",
    "import pprint\n",
    "\n",
    "client = MongoClient('192.168.1.178', 27017)\n",
    "db = client.shop\n",
    "collection = db.products\n",
    "\n",
    "prd_rec1 = {\n",
    "\"name\": \"ball\",\n",
    "\"price\": 400,\n",
    "}\n",
    "prd_rec2 = {\n",
    "\"name\": \"camera\",\n",
    "\"price\": 20000,\n",
    "}\n",
    "\n",
    "# Insert Data\n",
    "rec_id1 = collection.insert_one(prd_rec1)\n",
    "rec_id2 = collection.insert_one(prd_rec2)\n",
    "\n",
    "print(\"Data inserted with record ids\", rec_id1, \" \", rec_id2)\n",
    "\n",
    "prdlist = collection.find()\n",
    "\n",
    "\n",
    "for item in prdlist:\n",
    "\n",
    "    print(\"Name: \" + item[\"name\"] + \"Price: \" + str(item[\"price\"]))\n",
    "\n",
    "# Printing the data inserted\n",
    "#cursor = collection.find()\n",
    "#for record in cursor:\n",
    "# print(record)"
   ]
  },
  {
   "cell_type": "code",
   "execution_count": 252,
   "metadata": {},
   "outputs": [
    {
     "ename": "ModuleNotFoundError",
     "evalue": "No module named 'stringIO'",
     "output_type": "error",
     "traceback": [
      "\u001b[1;31m---------------------------------------------------------------------------\u001b[0m",
      "\u001b[1;31mModuleNotFoundError\u001b[0m                       Traceback (most recent call last)",
      "\u001b[1;32m<ipython-input-252-c33a72e74353>\u001b[0m in \u001b[0;36m<module>\u001b[1;34m\u001b[0m\n\u001b[1;32m----> 1\u001b[1;33m \u001b[1;32mimport\u001b[0m \u001b[0mstringIO\u001b[0m\u001b[1;33m\u001b[0m\u001b[1;33m\u001b[0m\u001b[0m\n\u001b[0m",
      "\u001b[1;31mModuleNotFoundError\u001b[0m: No module named 'stringIO'"
     ]
    }
   ],
   "source": [
    "import stringIO"
   ]
  },
  {
   "cell_type": "code",
   "execution_count": 255,
   "metadata": {},
   "outputs": [
    {
     "name": "stdout",
     "output_type": "stream",
     "text": [
      "hey its looking like add correctly!\n"
     ]
    }
   ],
   "source": [
    "try:\n",
    "    result = 10+ '10'\n",
    "except:\n",
    "    print(\"hey its looking like add correctly!\")\n"
   ]
  },
  {
   "cell_type": "code",
   "execution_count": 256,
   "metadata": {},
   "outputs": [
    {
     "data": {
      "text/plain": [
       "7"
      ]
     },
     "execution_count": 256,
     "metadata": {},
     "output_type": "execute_result"
    }
   ],
   "source": [
    "result"
   ]
  },
  {
   "cell_type": "code",
   "execution_count": 2,
   "metadata": {},
   "outputs": [
    {
     "name": "stdout",
     "output_type": "stream",
     "text": [
      "10\n",
      "20\n"
     ]
    }
   ],
   "source": [
    "a = 10\n",
    "b = 20\n",
    "print(a)\n",
    "print(b)\n"
   ]
  },
  {
   "cell_type": "code",
   "execution_count": null,
   "metadata": {},
   "outputs": [],
   "source": []
  }
 ],
 "metadata": {
  "kernelspec": {
   "display_name": "Python 3",
   "language": "python",
   "name": "python3"
  },
  "language_info": {
   "codemirror_mode": {
    "name": "ipython",
    "version": 3
   },
   "file_extension": ".py",
   "mimetype": "text/x-python",
   "name": "python",
   "nbconvert_exporter": "python",
   "pygments_lexer": "ipython3",
   "version": "3.7.4"
  }
 },
 "nbformat": 4,
 "nbformat_minor": 2
}
